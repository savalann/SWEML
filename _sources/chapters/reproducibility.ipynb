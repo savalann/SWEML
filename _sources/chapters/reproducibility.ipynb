{
 "cells": [
  {
   "cell_type": "markdown",
   "metadata": {
    "tags": []
   },
   "source": [
    "# Reproducibility\n",
    "\n",
    "Reproducibility is essential for open science.\n",
    "Want to run the tutorial on your own machine?\n",
    "Follow these steps for using [git clone](https://docs.github.com/en/desktop/contributing-and-collaborating-using-github-desktop/adding-and-cloning-repositories/cloning-and-forking-repositories-from-github-desktop).\n",
    "We recommend creating a [virtual environment](https://www.geeksforgeeks.org/create-virtual-environment-using-venv-python/) for installing all packages. \n",
    "Some packages are troublesome to install and/or have dependency requirements, please look to the requirement.txt file for more information on specific versions. \n",
    "The [UCI version](https://www.lfd.uci.edu/~gohlke/pythonlibs/) archives are an excellent source of the versioned binaries (.whl files). \n",
    "Binaries are easy to install and [here](https://realpython.com/python-wheels/) is a guide.\n",
    "\n",
    "## When finished RJ will make a DOI\n",
    "How to get credit for the work. Steps for getting a DOI. Discuss workflow adaptation to other datasets and science questions if suitable."
   ]
  },
  {
   "cell_type": "markdown",
   "metadata": {},
   "source": [
    "## Incorporating new data sources.\n",
    "Data driven modeling requires large quantities of quality data.\n",
    "Snow science is no exception and we are constantly looking for more high spatial and temporal data.\n",
    "For example, we are looking to integrate Modis snow products such as snow-covered-area (SCA) and use LandSat land surface imagery to describe vegetation cover. \n",
    "\n",
    "<img align = 'center' src=\"./Images/MODIS_SCA_rockies.jpg\" alt = 'image' width = '500'/>\n",
    "Modis SCA data could help inform the model if there is snow covering the 1-km grid or not. \n",
    "This could enhance early and late season predictions.\n",
    "\n",
    "<img align = 'center' src=\"./Images/Landsat_Rockies.jpg\" alt = 'image' width = '500'/>\n",
    "Landsat data could help inform the model on the dominant vegetation influence on snowpack.\n",
    "For instance, aspen groves allow much more solar radiation to influence snow process than evergreen forests.\n",
    "Likewise for forested areas vs. open meadows.\n"
   ]
  },
  {
   "cell_type": "markdown",
   "metadata": {},
   "source": [
    "## Science Questions\n",
    "<img align = 'right' src=\"./Images/Superior_AlpenGlow.JPG\" alt = 'drawing' width = '200'/>\n",
    "There are numerous questions stemming from the model.\n",
    "Below are a few key questions to help advance our modeling efforts:\n",
    "\n",
    "\n",
    "1. What is optimial spatial resolution for SWE modeling for streamflow prediction, taking into account computational limitations for operational hydrology.\n",
    "1. Can the submodeling domain be optimized? If so, how and what the modeling performance expectaitons?\n",
    "1. Is there a more efficient and logical development of submodels? For instance, can we develop a method that uses the nearest in situ observation location to extrapolate SWE inferences for CONUS, and thus, negate the need for submodels?\n",
    "1. How can snow process physics be incorporated in the model, i.e., water and energy budgets and exchanges?\n",
    "1. Your Science Questions!"
   ]
  },
  {
   "cell_type": "markdown",
   "metadata": {},
   "source": [
    "## Contributing \n",
    "\n",
    "*Pull requests, bug reports, and all other forms of contribution are welcomed and highly encouraged!* :octocat:\n",
    "\n",
    "Please visit the [Contributing Guidelines](./Contributing.ipynb)\n",
    "\n"
   ]
  },
  {
   "cell_type": "markdown",
   "metadata": {},
   "source": [
    "Next [Chapter](./conclusion.ipynb)."
   ]
  },
  {
   "cell_type": "code",
   "execution_count": null,
   "metadata": {},
   "outputs": [],
   "source": []
  }
 ],
 "metadata": {
  "kernelspec": {
   "display_name": "Python 3 (ipykernel)",
   "language": "python",
   "name": "python3"
  },
  "language_info": {
   "codemirror_mode": {
    "name": "ipython",
    "version": 3
   },
   "file_extension": ".py",
   "mimetype": "text/x-python",
   "name": "python",
   "nbconvert_exporter": "python",
   "pygments_lexer": "ipython3",
   "version": "3.9.12"
  },
  "vscode": {
   "interpreter": {
    "hash": "c446eef832ec964573dc49f36fd16bdbed40cbfbefbf557bc2dc78d9e7968689"
   }
  }
 },
 "nbformat": 4,
 "nbformat_minor": 4
}
